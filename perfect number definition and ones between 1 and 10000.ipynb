{
 "cells": [
  {
   "cell_type": "code",
   "execution_count": 4,
   "id": "e0798516",
   "metadata": {},
   "outputs": [
    {
     "name": "stdout",
     "output_type": "stream",
     "text": [
      "lütfen mükemmellik sorgusu yapılacak sayıyı giriniz..28\n",
      "28 sayısı bir mükemmel sayıdır..\n"
     ]
    }
   ],
   "source": [
    "a=int(input(\"lütfen mükemmellik sorgusu yapılacak sayıyı giriniz..\"))\n",
    "\n",
    "toplam=0\n",
    "\n",
    "for i in range(1,(a//2)+1):\n",
    "    if a%i==0:\n",
    "        toplam+=i\n",
    "if toplam==a:\n",
    "    print(\"{} sayısı bir mükemmel sayıdır..\".format(a))\n",
    "else:\n",
    "    print(\"{} sayısı bir mükemmel sayı değildir..\".format(a))\n",
    "    "
   ]
  },
  {
   "cell_type": "code",
   "execution_count": 9,
   "id": "78593c00",
   "metadata": {},
   "outputs": [
    {
     "name": "stdout",
     "output_type": "stream",
     "text": [
      "6 28 496 8128 sayıları 1 ile 10000 arasındaki mükemmel sayılardır..\n"
     ]
    }
   ],
   "source": [
    "for i in range(1,10001):\n",
    "    toplam=0\n",
    "    for j in range(1,(i//2)+1):\n",
    "        if i%j==0:\n",
    "            toplam+=j\n",
    "    if toplam==i:\n",
    "        print(i,end=\" \")\n",
    "print(\"sayıları 1 ile 10000 arasındaki mükemmel sayılardır..\")        "
   ]
  },
  {
   "cell_type": "code",
   "execution_count": null,
   "id": "acd07b9a",
   "metadata": {},
   "outputs": [],
   "source": []
  }
 ],
 "metadata": {
  "kernelspec": {
   "display_name": "Python 3 (ipykernel)",
   "language": "python",
   "name": "python3"
  },
  "language_info": {
   "codemirror_mode": {
    "name": "ipython",
    "version": 3
   },
   "file_extension": ".py",
   "mimetype": "text/x-python",
   "name": "python",
   "nbconvert_exporter": "python",
   "pygments_lexer": "ipython3",
   "version": "3.9.13"
  }
 },
 "nbformat": 4,
 "nbformat_minor": 5
}
