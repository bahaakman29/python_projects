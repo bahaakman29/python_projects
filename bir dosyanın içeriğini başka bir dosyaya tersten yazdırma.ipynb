{
 "cells": [
  {
   "cell_type": "code",
   "execution_count": 23,
   "id": "5942456a",
   "metadata": {},
   "outputs": [],
   "source": [
    "file1=open(\"metin1.txt\",\"r\")\n",
    "file2=open(\"metin5.txt\",\"w\")\n",
    "text=file1.read()\n",
    "text=text[::-1]\n",
    "file2.write(text)    \n",
    "file1.close()\n",
    "file2.close()"
   ]
  },
  {
   "cell_type": "code",
   "execution_count": 20,
   "id": "c970d17f",
   "metadata": {},
   "outputs": [],
   "source": [
    "file1=open(\"metin1.txt\",\"r\")\n",
    "file2=open(\"metin4.txt\",\"w\")\n",
    "text=file1.read()\n",
    "for i in range(len(text)):\n",
    "    file2.write(str(text[-1-i])) \n",
    "file1.close()\n",
    "file2.close()"
   ]
  },
  {
   "cell_type": "code",
   "execution_count": 27,
   "id": "891ec212",
   "metadata": {},
   "outputs": [
    {
     "name": "stdout",
     "output_type": "stream",
     "text": [
      "['bahadır', 'akman', 'okul', 'ev', 'araba']\n",
      "<class 'list'>\n"
     ]
    }
   ],
   "source": [
    "ad=\"bahadır.akman.okul.ev.araba\"\n",
    "ad=ad.split(\".\")\n",
    "print(ad)\n",
    "print(type(ad))"
   ]
  }
 ],
 "metadata": {
  "kernelspec": {
   "display_name": "Python 3 (ipykernel)",
   "language": "python",
   "name": "python3"
  },
  "language_info": {
   "codemirror_mode": {
    "name": "ipython",
    "version": 3
   },
   "file_extension": ".py",
   "mimetype": "text/x-python",
   "name": "python",
   "nbconvert_exporter": "python",
   "pygments_lexer": "ipython3",
   "version": "3.9.13"
  }
 },
 "nbformat": 4,
 "nbformat_minor": 5
}
