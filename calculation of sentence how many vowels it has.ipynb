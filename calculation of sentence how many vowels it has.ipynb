{
 "cells": [
  {
   "cell_type": "code",
   "execution_count": 5,
   "id": "eae57baf",
   "metadata": {},
   "outputs": [],
   "source": [
    "def vowel(sentence):\n",
    "    sentence=list(sentence)\n",
    "    count=0\n",
    "    for i in range(len(sentence)):\n",
    "        if sentence[i]=='a' or sentence[i]=='e' or sentence[i]=='u' or sentence[i]=='i' or sentence[i]=='o':\n",
    "            count+=1\n",
    "    return count\n"
   ]
  },
  {
   "cell_type": "code",
   "execution_count": 6,
   "id": "4fb89af6",
   "metadata": {},
   "outputs": [
    {
     "name": "stdout",
     "output_type": "stream",
     "text": [
      "please enter the sentence that will be calculated number of vowel..No matter how often the Hubble Space Telescope provides us with mind-numbing views of our universe, the excitement of seeing a new one always feels fresh. Such is the case for an image released by NASA on Frida\n",
      "67\n"
     ]
    }
   ],
   "source": [
    "sentence=input(\"please enter the sentence that will be calculated number of vowel..\")\n",
    "print(vowel(sentence))"
   ]
  },
  {
   "cell_type": "code",
   "execution_count": null,
   "id": "b4b977be",
   "metadata": {},
   "outputs": [],
   "source": []
  }
 ],
 "metadata": {
  "kernelspec": {
   "display_name": "Python 3 (ipykernel)",
   "language": "python",
   "name": "python3"
  },
  "language_info": {
   "codemirror_mode": {
    "name": "ipython",
    "version": 3
   },
   "file_extension": ".py",
   "mimetype": "text/x-python",
   "name": "python",
   "nbconvert_exporter": "python",
   "pygments_lexer": "ipython3",
   "version": "3.9.13"
  }
 },
 "nbformat": 4,
 "nbformat_minor": 5
}
