{
 "cells": [
  {
   "cell_type": "code",
   "execution_count": 1,
   "id": "a134c444",
   "metadata": {},
   "outputs": [
    {
     "name": "stdout",
     "output_type": "stream",
     "text": [
      "EBOB hesabı yapmak istiyorsanız 'B' harfini, EKOK hesabı yapmak istiyorsanız 'K' harfini tuşlayınız..b\n",
      "EBOB hesap ekranına hoşgeldinizz..\n",
      "lütfen EBOB işlemi yapılacak olan iki sayıyı aralarında bir boşluk olacak şekilde giriniz..49 32\n",
      "49 ve 32 sayıları aralarında asal sayılardır..\n"
     ]
    }
   ],
   "source": [
    "option=input(\"EBOB hesabı yapmak istiyorsanız 'B' harfini, EKOK hesabı yapmak istiyorsanız 'K' harfini tuşlayınız..\")\n",
    "\n",
    "if option=='B' or option=='b':\n",
    "    print(\"EBOB hesap ekranına hoşgeldinizz..\")\n",
    "    sayi1,sayi2=map(int,input(\"lütfen EBOB işlemi yapılacak olan iki sayıyı aralarında bir boşluk olacak şekilde giriniz..\").split())\n",
    "    \n",
    "    if sayi1>sayi2:\n",
    "        for i in range(2,sayi2+1):\n",
    "            if sayi2%i==0 and sayi1%i==0:\n",
    "                print(\"{} ve {} sayılarının EBOB'u {} sayısıdır..\".format(sayi1,sayi2,i))\n",
    "                break\n",
    "        print(\"{} ve {} sayıları aralarında asal sayılardır..\".format(sayi1,sayi2))                \n",
    "    else:\n",
    "        for i in range(2,sayi1+1):\n",
    "            if sayi1%i==0 and sayi2%i==0:\n",
    "                print(\"{} ve {} sayılarının EBOB'u {} sayısıdır\".format(sayi1,sayi2,i))\n",
    "                break\n",
    "        print(\"{} ve {} sayıları aralarında asal sayılardır..\".format(sayi1,sayi2))        \n",
    "    \n",
    "elif option=='K' or option=='k':\n",
    "    print(\"EKOK hesap ekranına hoşgeldinizz..\")\n",
    "    sayi1,sayi2=map(int,input(\"lütfen EKOK işlemi yapılacak olan iki sayıyı aralarında bir boşluk olacak şekilde giriniz..\").split())\n",
    "    \n",
    "    if sayi1>sayi2:\n",
    "        for i in range(sayi1,sayi1*sayi2+1):\n",
    "            if i%sayi1==0 and i%sayi2==0:\n",
    "                print(\"{} ve {} sayılarının EKOK'u {} sayısıdır..\".format(sayi1,sayi2,i))\n",
    "                break\n",
    "    else:\n",
    "        for i in range(sayi2,sayi1*sayi2+1):\n",
    "            if i%sayi2==0 and i%sayi1==0:\n",
    "                print(\"{} ve {} sayılarının EKOK'u {} sayısıdır..\".format(sayi1,sayi2,i))\n",
    "                break"
   ]
  },
  {
   "cell_type": "code",
   "execution_count": null,
   "id": "1837a406",
   "metadata": {},
   "outputs": [],
   "source": []
  }
 ],
 "metadata": {
  "kernelspec": {
   "display_name": "Python 3 (ipykernel)",
   "language": "python",
   "name": "python3"
  },
  "language_info": {
   "codemirror_mode": {
    "name": "ipython",
    "version": 3
   },
   "file_extension": ".py",
   "mimetype": "text/x-python",
   "name": "python",
   "nbconvert_exporter": "python",
   "pygments_lexer": "ipython3",
   "version": "3.9.13"
  }
 },
 "nbformat": 4,
 "nbformat_minor": 5
}
