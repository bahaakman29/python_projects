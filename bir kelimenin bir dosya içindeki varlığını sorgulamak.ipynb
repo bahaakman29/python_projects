{
 "cells": [
  {
   "cell_type": "code",
   "execution_count": null,
   "id": "f0507de1",
   "metadata": {},
   "outputs": [],
   "source": [
    "#bir kelimenin bir dosya içindeki varlığını sorgulamak\n",
    "aranan=input(\"lütfen aramak istediğiniz kelimeyi giriniz..\")\n",
    "dosya1=open(\"metin6.txt\",\"r\")\n",
    "text=dosya1.read()\n",
    "text=text.split(\" \")\n",
    "print(text)\n",
    "a=0\n",
    "for word in text:\n",
    "    if aranan==word or aranan in word:\n",
    "        print(\"aradığınız kelime b or aranan in wordu dosya içinde geçmektedir..\")\n",
    "        a=1\n",
    "    if a==1:\n",
    "        break\n",
    "if a!=1:\n",
    "    print(\"aradığınız kelime bu dosyada bulunmamaktadır..\")"
   ]
  },
  {
   "cell_type": "code",
   "execution_count": 2,
   "id": "266bc850",
   "metadata": {},
   "outputs": [
    {
     "name": "stdout",
     "output_type": "stream",
     "text": [
      "True\n"
     ]
    }
   ],
   "source": [
    "kelime=\"vatansever\"\n",
    "kelime2=\"vatan\"\n",
    "print(kelime2  in kelime)"
   ]
  }
 ],
 "metadata": {
  "kernelspec": {
   "display_name": "Python 3 (ipykernel)",
   "language": "python",
   "name": "python3"
  },
  "language_info": {
   "codemirror_mode": {
    "name": "ipython",
    "version": 3
   },
   "file_extension": ".py",
   "mimetype": "text/x-python",
   "name": "python",
   "nbconvert_exporter": "python",
   "pygments_lexer": "ipython3",
   "version": "3.9.13"
  }
 },
 "nbformat": 4,
 "nbformat_minor": 5
}
