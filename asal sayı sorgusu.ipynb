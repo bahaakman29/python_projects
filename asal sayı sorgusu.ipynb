{
 "cells": [
  {
   "cell_type": "code",
   "execution_count": 20,
   "id": "207dbd33",
   "metadata": {},
   "outputs": [
    {
     "name": "stdout",
     "output_type": "stream",
     "text": [
      "asallık sorgusu yapılacak olan sayıyı giriniz..6\n",
      "6 sayısı bir asal sayı değildir..\n"
     ]
    }
   ],
   "source": [
    "sayi=int(input(\"asallık sorgusu yapılacak olan sayıyı giriniz..\"))\n",
    "kosuldurumu=0\n",
    "for i in range(2,(sayi//2)+1):\n",
    "    if sayi%i==0:\n",
    "        kosuldurumu=1\n",
    "        break\n",
    "        \n",
    "if kosuldurumu==1:\n",
    "    print(\"{} sayısı bir asal sayı değildir..\".format(sayi))\n",
    "elif kosuldurumu==0:\n",
    "    print(\"{} sayısı bir asal sayıdır..\".format(sayi))\n",
    "    "
   ]
  },
  {
   "cell_type": "code",
   "execution_count": null,
   "id": "5061167b",
   "metadata": {},
   "outputs": [],
   "source": []
  },
  {
   "cell_type": "code",
   "execution_count": null,
   "id": "f7988d77",
   "metadata": {},
   "outputs": [],
   "source": []
  }
 ],
 "metadata": {
  "kernelspec": {
   "display_name": "Python 3 (ipykernel)",
   "language": "python",
   "name": "python3"
  },
  "language_info": {
   "codemirror_mode": {
    "name": "ipython",
    "version": 3
   },
   "file_extension": ".py",
   "mimetype": "text/x-python",
   "name": "python",
   "nbconvert_exporter": "python",
   "pygments_lexer": "ipython3",
   "version": "3.9.13"
  }
 },
 "nbformat": 4,
 "nbformat_minor": 5
}
