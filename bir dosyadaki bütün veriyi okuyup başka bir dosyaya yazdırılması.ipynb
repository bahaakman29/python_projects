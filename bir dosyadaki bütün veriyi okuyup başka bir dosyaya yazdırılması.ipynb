{
 "cells": [
  {
   "cell_type": "code",
   "execution_count": 43,
   "id": "8f05d426",
   "metadata": {},
   "outputs": [
    {
     "name": "stdout",
     "output_type": "stream",
     "text": [
      "lütfen okunacak verinin var olduğu dosyanın adını uzantı ismiyle beraber giriniz..metin1.txt\n",
      "lütfen verinin yazdırılacağı dosyanın ismini uzantısıyla beraber giriniz.. metin3.txt\n",
      "kocaeli university\n",
      "electronics and communication engineering\n",
      "\n",
      "KOCAELI UNIVERSITY\n",
      "ELECTRONICS AND COMMUNICATION ENGINEERING\n",
      "\n"
     ]
    }
   ],
   "source": [
    "# bir dosyadaki bütün veriyi okuyup başka bir dosyaya yazdırılması\n",
    "try:\n",
    "    dosyaadı1=input(\"lütfen okunacak verinin var olduğu dosyanın adını uzantı ismiyle beraber giriniz..\")\n",
    "    dosyaadı2=input(\"lütfen verinin yazdırılacağı dosyanın ismini uzantısıyla beraber giriniz.. \")\n",
    "    metin1=open(dosyaadı1,\"r\")\n",
    "    metin3=open(dosyaadı2,\"a\")\n",
    "    içerik=metin1.read()\n",
    "    print(içerik)\n",
    "    içerik=içerik.upper()\n",
    "    print(içerik)\n",
    "    metin3.write(içerik)\n",
    "except:\n",
    "    print(\"lütfen ilk girdiğiniz dosya boş olmasın!\")\n",
    "  "
   ]
  },
  {
   "cell_type": "code",
   "execution_count": null,
   "id": "9f75156d",
   "metadata": {},
   "outputs": [],
   "source": []
  }
 ],
 "metadata": {
  "kernelspec": {
   "display_name": "Python 3 (ipykernel)",
   "language": "python",
   "name": "python3"
  },
  "language_info": {
   "codemirror_mode": {
    "name": "ipython",
    "version": 3
   },
   "file_extension": ".py",
   "mimetype": "text/x-python",
   "name": "python",
   "nbconvert_exporter": "python",
   "pygments_lexer": "ipython3",
   "version": "3.9.13"
  }
 },
 "nbformat": 4,
 "nbformat_minor": 5
}
