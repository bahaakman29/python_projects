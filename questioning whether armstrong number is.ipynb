{
 "cells": [
  {
   "cell_type": "code",
   "execution_count": 2,
   "id": "726826fe",
   "metadata": {},
   "outputs": [
    {
     "name": "stdout",
     "output_type": "stream",
     "text": [
      "armstrong sayı sorgusu için bir sayı giriniz..371\n",
      "371 sayısı bir armstrong sayıdır\n"
     ]
    }
   ],
   "source": [
    "#bir sayının armstrong sayı olup olmadığını sorgulama\n",
    "\n",
    "a=int(input(\"armstrong sayı sorgusu için bir sayı giriniz..\"))\n",
    "b=a # sayıyı kaybetmemek için başka bir değişkende tutma\n",
    "toplam=0\n",
    "\n",
    "while(b!=0):\n",
    "    toplam+=(b%10)**3\n",
    "    b//=10\n",
    "if toplam==a:\n",
    "    print(\"{} sayısı bir armstrong sayıdır\".format(a))\n",
    "else:\n",
    "    print(\"{} sayısı bir armstrong sayı değildir.\".format(a))"
   ]
  },
  {
   "cell_type": "code",
   "execution_count": 12,
   "id": "073dafb4",
   "metadata": {},
   "outputs": [
    {
     "name": "stdout",
     "output_type": "stream",
     "text": [
      "1 sayısı bir armstrong sayıdır..\n",
      "153 sayısı bir armstrong sayıdır..\n",
      "370 sayısı bir armstrong sayıdır..\n",
      "371 sayısı bir armstrong sayıdır..\n",
      "407 sayısı bir armstrong sayıdır..\n"
     ]
    }
   ],
   "source": [
    "# 1 ile 1000 sayıları arasındaki armstrong sayıları bulma\n",
    "\n",
    "for a in range(1,100000):\n",
    "    toplam=0\n",
    "    b=a\n",
    "    while(b!=0):\n",
    "        toplam+=(b%10)**3\n",
    "        b//=10\n",
    "    if toplam==a:\n",
    "        print(\"{} sayısı bir armstrong sayıdır..\".format(a))\n",
    "        "
   ]
  },
  {
   "cell_type": "code",
   "execution_count": null,
   "id": "e723faea",
   "metadata": {},
   "outputs": [],
   "source": []
  }
 ],
 "metadata": {
  "kernelspec": {
   "display_name": "Python 3 (ipykernel)",
   "language": "python",
   "name": "python3"
  },
  "language_info": {
   "codemirror_mode": {
    "name": "ipython",
    "version": 3
   },
   "file_extension": ".py",
   "mimetype": "text/x-python",
   "name": "python",
   "nbconvert_exporter": "python",
   "pygments_lexer": "ipython3",
   "version": "3.9.13"
  }
 },
 "nbformat": 4,
 "nbformat_minor": 5
}
