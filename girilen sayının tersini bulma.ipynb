{
 "cells": [
  {
   "cell_type": "code",
   "execution_count": 11,
   "id": "56f0e0a2",
   "metadata": {},
   "outputs": [
    {
     "name": "stdout",
     "output_type": "stream",
     "text": [
      "lütfen tersi bulunacak olan sayıyı giriniz..15545\n",
      "15545 sayısının ters hali 54551 sayısıdır..\n"
     ]
    }
   ],
   "source": [
    "#girilen sayıyı tersten yazdırma\n",
    "#0'lara sonradan tekrardan bakılacak..\n",
    "sayi=int(input(\"lütfen tersi bulunacak olan sayıyı giriniz..\"))\n",
    "rem=sayi\n",
    "yeni=0\n",
    "bas=int()\n",
    "\n",
    "while sayi>0:\n",
    "    yeni*=10\n",
    "    yeni+=(sayi%10)\n",
    "    sayi//=10\n",
    "\n",
    "    \n",
    "print(\"{} sayısının ters hali {} sayısıdır..\".format(rem,yeni))    "
   ]
  },
  {
   "cell_type": "code",
   "execution_count": null,
   "id": "d474b500",
   "metadata": {},
   "outputs": [],
   "source": []
  }
 ],
 "metadata": {
  "kernelspec": {
   "display_name": "Python 3 (ipykernel)",
   "language": "python",
   "name": "python3"
  },
  "language_info": {
   "codemirror_mode": {
    "name": "ipython",
    "version": 3
   },
   "file_extension": ".py",
   "mimetype": "text/x-python",
   "name": "python",
   "nbconvert_exporter": "python",
   "pygments_lexer": "ipython3",
   "version": "3.9.13"
  }
 },
 "nbformat": 4,
 "nbformat_minor": 5
}
