{
 "cells": [
  {
   "cell_type": "code",
   "execution_count": 17,
   "id": "d2963e32",
   "metadata": {},
   "outputs": [],
   "source": [
    "#calculation what average character number of sentence  is\n",
    "def averagecharacter(sentence):\n",
    "    sentence=list(sentence)\n",
    "    whole=len(sentence)\n",
    "    print(\"number of all characters is {}\".format(whole))\n",
    "    space=0\n",
    "    other=0\n",
    "    for i in range(len(sentence)):\n",
    "        if sentence[i]=='.' or sentence[i]==',':\n",
    "            other+=1\n",
    "            continue\n",
    "        if sentence[i]==' ':\n",
    "            space+=1\n",
    "    print(\"number of other characters is {}\".format(other))    \n",
    "    print(\"number of spaces is {}\".format(space))\n",
    "    numberofwords=space+1\n",
    "    print(\"number of words is {}\".format(numberofwords))        \n",
    "    characters=whole-(space+other)\n",
    "    print(\"number of characters is {}\".format(characters))\n",
    "    return characters/numberofwords        \n",
    "            "
   ]
  },
  {
   "cell_type": "code",
   "execution_count": 18,
   "id": "43a88966",
   "metadata": {
    "scrolled": true
   },
   "outputs": [
    {
     "name": "stdout",
     "output_type": "stream",
     "text": [
      "please enter a sentence that will be calculated number of average characterplease enter a sentence that will be......, calculated number of average character\n",
      "number of all characters is 82\n",
      "number of other characters is 7\n",
      "number of spaces is 11\n",
      "number of words is 12\n",
      "number of characters is 64\n",
      "5.333333333333333\n"
     ]
    }
   ],
   "source": [
    "sentence=input(\"please enter a sentence that will be calculated number of average character\")\n",
    "print(averagecharacter(sentence))"
   ]
  },
  {
   "cell_type": "code",
   "execution_count": null,
   "id": "3407907b",
   "metadata": {},
   "outputs": [],
   "source": []
  }
 ],
 "metadata": {
  "kernelspec": {
   "display_name": "Python 3 (ipykernel)",
   "language": "python",
   "name": "python3"
  },
  "language_info": {
   "codemirror_mode": {
    "name": "ipython",
    "version": 3
   },
   "file_extension": ".py",
   "mimetype": "text/x-python",
   "name": "python",
   "nbconvert_exporter": "python",
   "pygments_lexer": "ipython3",
   "version": "3.9.13"
  }
 },
 "nbformat": 4,
 "nbformat_minor": 5
}
