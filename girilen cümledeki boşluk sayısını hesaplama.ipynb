{
 "cells": [
  {
   "cell_type": "code",
   "execution_count": 4,
   "id": "2e99ba82",
   "metadata": {},
   "outputs": [
    {
     "name": "stdout",
     "output_type": "stream",
     "text": [
      "lütfen bir cümle veya paragraf giriniz..While a number of definitions of artificial intelligence (AI) have surfaced over the last few decades, John McCarthy offers the following definition in this 2004 paper (PDF, 127 KB) (link resides outside IBM), \" It is the science and engineering of making intelligent machines, especially intelligent computer programs. It is related to the similar task of using computers to understand human intelligence, but AI does not have to confine itself to methods that are biologically observable.\"\n",
      " girdiğiniz cümlede 75 bosluk vardır..\n"
     ]
    }
   ],
   "source": [
    "#girilen cümledeki boşluk sayısını for döngüsü ile bulan program\n",
    "\n",
    "cümle=input(\"lütfen bir cümle veya paragraf giriniz..\")\n",
    "\n",
    "bosluk=0\n",
    "\n",
    "for i in cümle:\n",
    "    if i==\" \":\n",
    "        bosluk+=1\n",
    "print(\" girdiğiniz kelime grubunda {} bosluk vardır..\".format(bosluk))        "
   ]
  },
  {
   "cell_type": "code",
   "execution_count": 9,
   "id": "2ba8bdb6",
   "metadata": {},
   "outputs": [
    {
     "name": "stdout",
     "output_type": "stream",
     "text": [
      "lütfen bir cümle veya paragraf giriniz..While a number of definitions of artificial intelligence (AI) have surfaced over the last few decades, John McCarthy offers the following definition in this 2004 paper (PDF, 127 KB) (link resides outside IBM), \" It is the science and engineering of making intelligent machines, especially intelligent computer programs. It is related to the similar task of using computers to understand human intelligence, but AI does not have to confine itself to methods that are biologically observable.\"\n",
      "girdiğiniz kelime grubunda 75 tane boşluk vardır..\n"
     ]
    }
   ],
   "source": [
    "#girilen cümledeki boşluk sayısını while döngüsü ile bulan program\n",
    "\n",
    "cümle=input(\"lütfen bir cümle veya paragraf giriniz..\")\n",
    "\n",
    "i=0\n",
    "bosluk=0\n",
    "uzunluk=len(cümle)\n",
    "\n",
    "while i<uzunluk:\n",
    "    if cümle[i]==\" \":\n",
    "        bosluk+=1\n",
    "    i+=1        \n",
    "print(\"girdiğiniz kelime grubunda {} tane boşluk vardır..\".format(bosluk))"
   ]
  },
  {
   "cell_type": "code",
   "execution_count": null,
   "id": "5611c673",
   "metadata": {},
   "outputs": [],
   "source": []
  }
 ],
 "metadata": {
  "kernelspec": {
   "display_name": "Python 3 (ipykernel)",
   "language": "python",
   "name": "python3"
  },
  "language_info": {
   "codemirror_mode": {
    "name": "ipython",
    "version": 3
   },
   "file_extension": ".py",
   "mimetype": "text/x-python",
   "name": "python",
   "nbconvert_exporter": "python",
   "pygments_lexer": "ipython3",
   "version": "3.9.13"
  }
 },
 "nbformat": 4,
 "nbformat_minor": 5
}
