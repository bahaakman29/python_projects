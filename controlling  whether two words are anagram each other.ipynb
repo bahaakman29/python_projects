{
 "cells": [
  {
   "cell_type": "code",
   "execution_count": 3,
   "id": "57a76f3f",
   "metadata": {},
   "outputs": [],
   "source": [
    "def anagram(kelime1,kelime2):\n",
    "    kelime1=list(kelime1)\n",
    "    kelime2=list(kelime2)\n",
    "    for i in range(len(kelime1)):\n",
    "        for j in range(len(kelime2)):\n",
    "            if kelime1[i]==kelime2[j]:\n",
    "                break\n",
    "            if kelime1[i]!=kelime2[j] and j==(len(kelime1))-1:\n",
    "                return False \n",
    "    return True\n",
    "                "
   ]
  },
  {
   "cell_type": "code",
   "execution_count": 4,
   "id": "97595e38",
   "metadata": {},
   "outputs": [
    {
     "name": "stdout",
     "output_type": "stream",
     "text": [
      "lütfen anagram kontrolü yapılacak kelimeleri sırasıyla virgülle ayırarak giriniz ve\n",
      "                            kelimelerin aynı sayıda harf bulundurmasına özen gösteriniz..asya,yasa\n",
      "True\n"
     ]
    }
   ],
   "source": [
    "kelime1,kelime2=input('''lütfen anagram kontrolü yapılacak kelimeleri sırasıyla virgülle ayırarak giriniz ve\n",
    "                            kelimelerin aynı sayıda harf bulundurmasına özen gösteriniz..''').split(\",\")\n",
    "if len(kelime1)==len(kelime2):\n",
    "    print(anagram(kelime1,kelime2))\n",
    "else:\n",
    "    print(\"lütfen kelimelerin aynı sayıda harf bulundurmasına özen gösteriniz..\")\n",
    "    \n"
   ]
  },
  {
   "cell_type": "code",
   "execution_count": null,
   "id": "6858ef96",
   "metadata": {},
   "outputs": [],
   "source": []
  },
  {
   "cell_type": "code",
   "execution_count": null,
   "id": "89f60369",
   "metadata": {},
   "outputs": [],
   "source": []
  },
  {
   "cell_type": "code",
   "execution_count": null,
   "id": "23dd51e7",
   "metadata": {},
   "outputs": [],
   "source": []
  }
 ],
 "metadata": {
  "kernelspec": {
   "display_name": "Python 3 (ipykernel)",
   "language": "python",
   "name": "python3"
  },
  "language_info": {
   "codemirror_mode": {
    "name": "ipython",
    "version": 3
   },
   "file_extension": ".py",
   "mimetype": "text/x-python",
   "name": "python",
   "nbconvert_exporter": "python",
   "pygments_lexer": "ipython3",
   "version": "3.9.13"
  }
 },
 "nbformat": 4,
 "nbformat_minor": 5
}
