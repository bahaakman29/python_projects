{
 "cells": [
  {
   "cell_type": "code",
   "execution_count": 32,
   "id": "60e376a2",
   "metadata": {},
   "outputs": [],
   "source": [
    "#oop yardımıyla banka uygulaması\n",
    "\n",
    "class banka():\n",
    "    def __init__(self,isim,soyisim,bakiye):\n",
    "        self.isimSoyisimKontrol(self,isim,soyisim)\n",
    "        if bakiye>=0:\n",
    "            self.bakiye=bakiye\n",
    "    @staticmethod\n",
    "    def isimSoyisimKontrol(self,isim,soyisim):\n",
    "        for i in isim:\n",
    "            if (i>=\"a\" and i<=\"z\") or (i>=\"A\" and i<=\"Z\"):\n",
    "                if i==isim[-1]:\n",
    "                    self.isim=isim\n",
    "            else:\n",
    "                print(\"hatali isim girdiniz..\")\n",
    "        for j in soyisim:\n",
    "            if (j>=\"a\" and j<=\"z\") or (j>=\"A\" and j<=\"Z\"):\n",
    "                if j==soyisim[-1]:\n",
    "                    self.soyisim=soyisim\n",
    "            else:\n",
    "                print(\"hatali soyisim girdiniz..\")\n",
    "    def profilGoruntule(self):\n",
    "        print(\"isim:\",self.isim)\n",
    "        print(\"soyisim:\",self.soyisim)\n",
    "        print(\"bakiye:\",self.bakiye)\n",
    "    \n",
    "    def paraYatirma(self,yatirilacakTutar):\n",
    "        self.bakiye+=yatirilacakTutar\n",
    "        print(\"guncel bakiyeniz:\",self.bakiye)\n",
    "    def paraCekme(self,cekilecekTutar):\n",
    "        if cekilecekTutar<=self.bakiye:\n",
    "            self.bakiye-=cekilecekTutar\n",
    "            print(\"guncel bakiyeniz:\",self.bakiye)\n",
    "    def paraGonderme(self1,self2,gonderilecekTutar):\n",
    "        if gonderilecekTutar<=self1.bakiye:\n",
    "            self2.bakiye+=gonderilecekTutar\n",
    "            self1.bakiye-=gonderilecekTutar\n",
    "            print(\"gonderen hesabın guncel bakiyesi:\",self1.bakiye)\n",
    "            print(\"gonderilen hesabın guncel bakiyesi:\",self2.bakiye)"
   ]
  },
  {
   "cell_type": "code",
   "execution_count": 33,
   "id": "bba561bd",
   "metadata": {},
   "outputs": [
    {
     "name": "stdout",
     "output_type": "stream",
     "text": [
      "isim: Bahadir\n",
      "soyisim: AKMAN\n",
      "bakiye: 2500\n",
      "isim: Beyzanur\n",
      "soyisim: AKMAN\n",
      "bakiye: 7500\n",
      "guncel bakiyeniz: 2700\n",
      "guncel bakiyeniz: 7100\n",
      "gonderen hesabın guncel bakiyesi: 4100\n",
      "gonderilen hesabın guncel bakiyesi: 5700\n"
     ]
    }
   ],
   "source": [
    "musteri1=banka(\"Bahadir\",\"AKMAN\",2500)\n",
    "musteri2=banka(\"Beyzanur\",\"AKMAN\",7500)\n",
    "musteri1.profilGoruntule()\n",
    "musteri2.profilGoruntule()\n",
    "musteri1.paraYatirma(200)\n",
    "musteri2.paraCekme(400)\n",
    "musteri2.paraGonderme(musteri1,3000)\n",
    "\n"
   ]
  }
 ],
 "metadata": {
  "kernelspec": {
   "display_name": "Python 3 (ipykernel)",
   "language": "python",
   "name": "python3"
  },
  "language_info": {
   "codemirror_mode": {
    "name": "ipython",
    "version": 3
   },
   "file_extension": ".py",
   "mimetype": "text/x-python",
   "name": "python",
   "nbconvert_exporter": "python",
   "pygments_lexer": "ipython3",
   "version": "3.9.13"
  }
 },
 "nbformat": 4,
 "nbformat_minor": 5
}
