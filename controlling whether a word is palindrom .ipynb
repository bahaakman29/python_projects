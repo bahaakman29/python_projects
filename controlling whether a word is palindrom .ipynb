{
 "cells": [
  {
   "cell_type": "code",
   "execution_count": 28,
   "id": "35cf179c",
   "metadata": {},
   "outputs": [],
   "source": [
    "def palindrom(kelime):\n",
    "    for i in range(len(kelime)):\n",
    "        if kelime[i]!=kelime[-i-1]:\n",
    "            return False\n",
    "        if i==(len(kelime)//2)-1:\n",
    "            return True"
   ]
  },
  {
   "cell_type": "code",
   "execution_count": 29,
   "id": "50b8e854",
   "metadata": {},
   "outputs": [
    {
     "name": "stdout",
     "output_type": "stream",
     "text": [
      "lütfen palindrom olup olmadığı sorgulanacak kelimeyi giriniz..karalamak\n",
      "False\n"
     ]
    }
   ],
   "source": [
    "kelime=input(\"lütfen palindrom olup olmadığı sorgulanacak kelimeyi giriniz..\")\n",
    "print(palindrom(kelime))"
   ]
  },
  {
   "cell_type": "code",
   "execution_count": null,
   "id": "6131decf",
   "metadata": {},
   "outputs": [],
   "source": []
  },
  {
   "cell_type": "code",
   "execution_count": null,
   "id": "e9125b9d",
   "metadata": {},
   "outputs": [],
   "source": []
  },
  {
   "cell_type": "code",
   "execution_count": null,
   "id": "ed66abf1",
   "metadata": {},
   "outputs": [],
   "source": []
  }
 ],
 "metadata": {
  "kernelspec": {
   "display_name": "Python 3 (ipykernel)",
   "language": "python",
   "name": "python3"
  },
  "language_info": {
   "codemirror_mode": {
    "name": "ipython",
    "version": 3
   },
   "file_extension": ".py",
   "mimetype": "text/x-python",
   "name": "python",
   "nbconvert_exporter": "python",
   "pygments_lexer": "ipython3",
   "version": "3.9.13"
  }
 },
 "nbformat": 4,
 "nbformat_minor": 5
}
