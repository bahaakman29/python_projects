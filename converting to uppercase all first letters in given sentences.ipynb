{
 "cells": [
  {
   "cell_type": "code",
   "execution_count": 23,
   "id": "6de7d269",
   "metadata": {},
   "outputs": [],
   "source": [
    "def büyükharf(cumleler):\n",
    "    cumleler=list(cumleler)\n",
    "    cumleler[0]=cumleler[0].upper()\n",
    "    for i in range(len(cumleler)):\n",
    "        if cumleler[i]==\".\":\n",
    "            if cumleler[i]==cumleler[-1]:\n",
    "                continue\n",
    "            cumleler[i+1]=cumleler[i+1].upper()\n",
    "    return cumleler        "
   ]
  },
  {
   "cell_type": "code",
   "execution_count": 24,
   "id": "5738d48a",
   "metadata": {},
   "outputs": [
    {
     "name": "stdout",
     "output_type": "stream",
     "text": [
      "lütfen bir paragraf veya cümle giriniz..bahadır akman.kral.king\n",
      "['B', 'a', 'h', 'a', 'd', 'ı', 'r', ' ', 'a', 'k', 'm', 'a', 'n', '.', 'K', 'r', 'a', 'l', '.', 'K', 'i', 'n', 'g']\n"
     ]
    }
   ],
   "source": [
    "cumleler=input(\"lütfen bir paragraf veya cümle giriniz..\")\n",
    "sonuc=(str(büyükharf(cumleler)))\n",
    "print(sonuc)"
   ]
  },
  {
   "cell_type": "code",
   "execution_count": null,
   "id": "2e2b8942",
   "metadata": {},
   "outputs": [],
   "source": []
  }
 ],
 "metadata": {
  "kernelspec": {
   "display_name": "Python 3 (ipykernel)",
   "language": "python",
   "name": "python3"
  },
  "language_info": {
   "codemirror_mode": {
    "name": "ipython",
    "version": 3
   },
   "file_extension": ".py",
   "mimetype": "text/x-python",
   "name": "python",
   "nbconvert_exporter": "python",
   "pygments_lexer": "ipython3",
   "version": "3.9.13"
  }
 },
 "nbformat": 4,
 "nbformat_minor": 5
}
