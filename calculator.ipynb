{
 "cells": [
  {
   "cell_type": "code",
   "execution_count": 3,
   "id": "a69c09bc",
   "metadata": {},
   "outputs": [
    {
     "name": "stdout",
     "output_type": "stream",
     "text": [
      "yapacağınız hesap türünün işaretini giriniz..'+,- gibi'%\n",
      "hesap yapmak istediğiniz sayıları girinizz:79 7\n",
      "2\n"
     ]
    }
   ],
   "source": [
    "a=input(\"yapacağınız hesap türünün işaretini giriniz..'+,- gibi'\")\n",
    "\n",
    "b,c=map(int,input(\"hesap yapmak istediğiniz sayıları girinizz:\").split())\n",
    "\n",
    "\n",
    "if a==\"+\":\n",
    "    sonuc=b+c\n",
    "elif a==\"-\":\n",
    "    sonuc=b-c\n",
    "elif a==\"*\":\n",
    "    sonuc=b*c\n",
    "elif a==\"/\":\n",
    "    sonuc=b/c\n",
    "elif a==\"^\":\n",
    "    sonuc=b**c\n",
    "elif a==\"%\":\n",
    "    sonuc=b%c\n",
    "    \n",
    "print(sonuc)    \n",
    "    "
   ]
  },
  {
   "cell_type": "code",
   "execution_count": null,
   "id": "ec327595",
   "metadata": {},
   "outputs": [],
   "source": []
  }
 ],
 "metadata": {
  "kernelspec": {
   "display_name": "Python 3 (ipykernel)",
   "language": "python",
   "name": "python3"
  },
  "language_info": {
   "codemirror_mode": {
    "name": "ipython",
    "version": 3
   },
   "file_extension": ".py",
   "mimetype": "text/x-python",
   "name": "python",
   "nbconvert_exporter": "python",
   "pygments_lexer": "ipython3",
   "version": "3.9.13"
  }
 },
 "nbformat": 4,
 "nbformat_minor": 5
}
