{
 "cells": [
  {
   "cell_type": "code",
   "execution_count": 6,
   "id": "04197f9f",
   "metadata": {},
   "outputs": [
    {
     "name": "stdout",
     "output_type": "stream",
     "text": [
      "lütfen mükemmellik sorgusu yapılacak olan sayıyı giriniz..7\n",
      "7 sayısı bir mükemmel sayı değildir..\n"
     ]
    }
   ],
   "source": [
    "# break komutu ve dolaylı olarak sonsuz döngü ile mükemmel sayı sorgusu\n",
    "a=int(input(\"lütfen mükemmellik sorgusu yapılacak olan sayıyı giriniz..\"))\n",
    "\n",
    "toplam=0\n",
    "while True:\n",
    "    for i in range(1,(a//2)+1):\n",
    "        if a%i==0:\n",
    "            toplam+=i\n",
    "    if toplam==a:\n",
    "        print(\"{} sayısı bir mükemmel sayıdır..\".format(a))\n",
    "        break\n",
    "    else:\n",
    "        print(\"{} sayısı bir mükemmel sayı değildir..\".format(a))\n",
    "        break"
   ]
  },
  {
   "cell_type": "code",
   "execution_count": null,
   "id": "0f90ad49",
   "metadata": {},
   "outputs": [],
   "source": []
  }
 ],
 "metadata": {
  "kernelspec": {
   "display_name": "Python 3 (ipykernel)",
   "language": "python",
   "name": "python3"
  },
  "language_info": {
   "codemirror_mode": {
    "name": "ipython",
    "version": 3
   },
   "file_extension": ".py",
   "mimetype": "text/x-python",
   "name": "python",
   "nbconvert_exporter": "python",
   "pygments_lexer": "ipython3",
   "version": "3.9.13"
  }
 },
 "nbformat": 4,
 "nbformat_minor": 5
}
