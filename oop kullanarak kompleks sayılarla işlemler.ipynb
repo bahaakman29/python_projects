{
 "cells": [
  {
   "cell_type": "code",
   "execution_count": 5,
   "id": "b6e38572",
   "metadata": {},
   "outputs": [],
   "source": [
    "#oop kullanarak kompleks sayılarla işlemler\n",
    "\n",
    "class complexNumber():\n",
    "    def __init__(self,gercekKisim=0,sanalKisim=0):\n",
    "        self.gercekKisim=gercekKisim\n",
    "        self.sanalKisim=sanalKisim\n",
    "    def complexToplam(self,complexSayi):\n",
    "        toplamComplex=complexNumber()\n",
    "        toplamComplex.gercekKisim+=self.gercekKisim+complexSayi.gercekKisim\n",
    "        toplamComplex.sanalKisim=self.sanalKisim+complexSayi.sanalKisim\n",
    "        toplamComplex=toplamComplex.gercekKisim+toplamComplex.sanalKisim\n",
    "        return toplamComplex\n",
    "    def complexCarpim(self,complexSayi):\n",
    "        carpimComplex=complexNumber()\n",
    "        carpimComplex.gercekKisim=self.gercekKisim*complexSayi.gercekKisim+self.sanalKisim*complexSayi.sanalKisim\n",
    "        carpimComplex.sanalKisim=self.gercekKisim*complexSayi.sanalKisim+complexSayi.gercekKisim*self.sanalKisim\n",
    "        carpimComplex=carpimComplex.gercekKisim+carpimComplex.sanalKisim\n",
    "        return carpimComplex\n",
    "    def sabitCarpim(self,sayi):\n",
    "        sabitComplex=complexNumber()\n",
    "        sabitComplex.gercekKisim=self.gercekKisim*sayi\n",
    "        sabitComplex.sanalKisim=self.sanalKisim*sayi\n",
    "        sabitComplex=sabitComplex.gercekKisim+sabitComplex.sanalKisim\n",
    "        return sabitComplex\n",
    "    def negatifeeCevir(self,complexSayi):\n",
    "        negatifComplex=complexNumber()\n",
    "        negatifComplex.gercekKisim=complexSayi.gercekKisim*(-1)\n",
    "        negatifComplex.sanalKisim=complexSayi.sanalKisim*(-1)\n",
    "        negatifComplex=negatifComplex.gercekKisim+negatifComplex.sanalKisim\n",
    "        return negatifComplex\n",
    "    #2.yol\n",
    "    @classmethod\n",
    "    def negatifeCevir(cls,complexSayi):\n",
    "        negatifComplex=complexNumber()\n",
    "        negatifComplex.gercekKisim=complexSayi.gercekKisim*(-1)\n",
    "        negatifComplex.sanalKisim=complexSayi.sanalKisim*(-1)\n",
    "        negatifComplex=negatifComplex.gercekKisim+negatifComplex.sanalKisim\n",
    "        return negatifComplex\n",
    "    def complexCikarma(self,complexSayi):\n",
    "        print(\"cagrilan nesneden parametre olarak girdiginiz sayi cikarilir..\")\n",
    "        cikarmaComplex=complexNumber()\n",
    "        cikarmaComplex.gercekKisim=self.gercekKisim-complexSayi.gercekKisim\n",
    "        cikarmaComplex.sanalKisim=self.sanalKisim-complexSayi.sanalKisim\n",
    "        cikarmaComplex=cikarmaComplex.gercekKisim+cikarmaComplex.sanalKisim\n",
    "        return cikarmaComplex"
   ]
  },
  {
   "cell_type": "code",
   "execution_count": 64,
   "id": "7b9bd199",
   "metadata": {},
   "outputs": [
    {
     "name": "stdout",
     "output_type": "stream",
     "text": [
      "(8+6j)\n",
      "(16+21j)\n",
      "(12.5+10j)\n",
      "(-1-5j)\n",
      "(-1-5j)\n",
      "cagrilan nesneden parametre olarak girdiginiz sayi cikarilir..\n",
      "(2+0j)\n"
     ]
    }
   ],
   "source": [
    "complexNumber1=complexNumber(5,4j)\n",
    "complexSayi1=complexNumber(3,2j)\n",
    "complexSayi2=complexNumber(4,1j)\n",
    "complexSayi3=(2.5)\n",
    "complexSayi4=complexNumber(1,5j)\n",
    "complexSayi5=complexNumber(3,4j)\n",
    "print(complexNumber1.complexToplam(complexSayi1))\n",
    "print(complexNumber1.complexCarpim(complexSayi2))\n",
    "print(complexNumber1.sabitCarpim(complexSayi3))\n",
    "print(complexNumber1.negatifeeCevir(complexSayi4))\n",
    "print(complexNumber1.negatifeCevir(complexSayi4))\n",
    "complexNumber1=complexNumber(5,4j)print(complexNumber1.complexCikarma(complexSayi5))"
   ]
  }
 ],
 "metadata": {
  "kernelspec": {
   "display_name": "Python 3 (ipykernel)",
   "language": "python",
   "name": "python3"
  },
  "language_info": {
   "codemirror_mode": {
    "name": "ipython",
    "version": 3
   },
   "file_extension": ".py",
   "mimetype": "text/x-python",
   "name": "python",
   "nbconvert_exporter": "python",
   "pygments_lexer": "ipython3",
   "version": "3.9.13"
  }
 },
 "nbformat": 4,
 "nbformat_minor": 5
}
