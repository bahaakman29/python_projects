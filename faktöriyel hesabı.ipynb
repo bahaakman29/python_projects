{
 "cells": [
  {
   "cell_type": "code",
   "execution_count": 9,
   "id": "4411d40a",
   "metadata": {},
   "outputs": [
    {
     "name": "stdout",
     "output_type": "stream",
     "text": [
      "basamak sayısı hesaplanacak olan sayıyı girinizz..985456\n",
      "985456 sayısı 6 basamaklıdır\n"
     ]
    }
   ],
   "source": [
    "#while döngüsü ile basamak sayısı hesaplama\n",
    "sayi=int(input(\"basamak sayısı hesaplanacak olan sayıyı girinizz..\"))\n",
    "count=0\n",
    "rem=sayi\n",
    "while sayi>0:\n",
    "    sayi//=10\n",
    "    count+=1\n",
    "\n",
    "print(\"{} sayısı {} basamaklıdır\".format(rem,count))"
   ]
  },
  {
   "cell_type": "code",
   "execution_count": null,
   "id": "19f598f3",
   "metadata": {},
   "outputs": [],
   "source": []
  },
  {
   "cell_type": "code",
   "execution_count": null,
   "id": "9691c170",
   "metadata": {},
   "outputs": [],
   "source": []
  }
 ],
 "metadata": {
  "kernelspec": {
   "display_name": "Python 3 (ipykernel)",
   "language": "python",
   "name": "python3"
  },
  "language_info": {
   "codemirror_mode": {
    "name": "ipython",
    "version": 3
   },
   "file_extension": ".py",
   "mimetype": "text/x-python",
   "name": "python",
   "nbconvert_exporter": "python",
   "pygments_lexer": "ipython3",
   "version": "3.9.13"
  }
 },
 "nbformat": 4,
 "nbformat_minor": 5
}
