{
 "cells": [
  {
   "cell_type": "code",
   "execution_count": 94,
   "id": "e522ab54",
   "metadata": {},
   "outputs": [],
   "source": [
    "#oop yardımıyla üçgen sınıfı programı\n",
    "\n",
    "import math\n",
    "\n",
    "class ucgen():\n",
    "   \n",
    "    x=int()\n",
    "    \n",
    "    def __init__(self,a,b,c):\n",
    "        if a>0 and b>0 and c>0:\n",
    "            self.a,self.b,self.c=a,b,c\n",
    "    @staticmethod\n",
    "    def ucgenOlusabilirMi(a,b,c):\n",
    "        if a+b<=c or abs(a-b)>=c:\n",
    "            print(False)\n",
    "        elif a+c<=b or abs(a-c)>=b:\n",
    "            print(False)\n",
    "        elif b+c<=a or abs(b-c)>=a:\n",
    "            print(False)\n",
    "        else:\n",
    "            print(True)\n",
    "    def eskenarUcgenMi(self):\n",
    "        if self.a==self.b and self.a==self.c:\n",
    "            print(\"girdiginiz ucgen eskenar ucgendir..\")\n",
    "            ucgen.x=1\n",
    "        else:\n",
    "            print(\"girdiginiz ucgen eskenar ucgen degildir..\")\n",
    "            \n",
    "    def ikizkenarUcgenMi(self):\n",
    "        if self.a==self.b or self.a==self.c or self.b==self.c:\n",
    "            print(\"girdiginiz ucgen ikizkenar ucgendir..\")\n",
    "            ucgen.x=2\n",
    "        else:\n",
    "            print(\"girdiginiz ucgen ikizkenar ucgen degildir..\")\n",
    "    def cesitkenarUcgenMi(self):\n",
    "        if self.a!=self.b and self.a!=self.c and self.b!=self.c:\n",
    "            print(\"girdiginiz ucgen cesitkenar ucgendir..\")\n",
    "            ucgen.x=3\n",
    "        else:\n",
    "            print(\"girdiginiz ucgen kesinlikle cesitkenar ucgen degildir fakat kesinlikle ya ikizkenardır ya eskenardır..\")\n",
    "    @classmethod\n",
    "    def ucgenTipiniYazdir(cls):\n",
    "        if cls.x==1:\n",
    "            print(\"girdiginiz ucgen bir eskenar ucgendir..\")\n",
    "        elif cls.x==2:\n",
    "            print(\"girdiginiz ucgen bir ikizkenar ucgendir..\")\n",
    "        elif cls.x==3:\n",
    "            print(\"girdiginiz ucgen bir cesitkenar ucgendir..\")\n",
    "    def alanHesapla(self):\n",
    "        U=(self.a+self.b+self.c)/2\n",
    "        alan=math.sqrt(U*(U-self.a)*(U-self.b)*(U-self.c))  \n",
    "        print(\"girdiginiz ucgenin alanı:\",alan)"
   ]
  },
  {
   "cell_type": "code",
   "execution_count": 95,
   "id": "ea24f5c8",
   "metadata": {},
   "outputs": [
    {
     "name": "stdout",
     "output_type": "stream",
     "text": [
      "girdiginiz ucgen eskenar ucgen degildir..\n",
      "girdiginiz ucgen ikizkenar ucgen degildir..\n",
      "girdiginiz ucgen cesitkenar ucgendir..\n",
      "girdiginiz ucgenin alanı: 3.799671038392666\n",
      "girdiginiz ucgen bir cesitkenar ucgendir..\n",
      "True\n"
     ]
    }
   ],
   "source": [
    "ucgen1=ucgen(5,4,2)\n",
    "ucgen1.eskenarUcgenMi()\n",
    "ucgen1.ikizkenarUcgenMi()\n",
    "ucgen1.cesitkenarUcgenMi()\n",
    "ucgen1.alanHesapla()\n",
    "ucgen.ucgenTipiniYazdir()\n",
    "ucgen.ucgenOlusabilirMi(ucgen1.a,ucgen1.b,ucgen1.c)"
   ]
  }
 ],
 "metadata": {
  "kernelspec": {
   "display_name": "Python 3 (ipykernel)",
   "language": "python",
   "name": "python3"
  },
  "language_info": {
   "codemirror_mode": {
    "name": "ipython",
    "version": 3
   },
   "file_extension": ".py",
   "mimetype": "text/x-python",
   "name": "python",
   "nbconvert_exporter": "python",
   "pygments_lexer": "ipython3",
   "version": "3.9.13"
  }
 },
 "nbformat": 4,
 "nbformat_minor": 5
}
