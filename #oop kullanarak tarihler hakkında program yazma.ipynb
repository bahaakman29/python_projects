{
 "cells": [
  {
   "cell_type": "code",
   "execution_count": 40,
   "id": "68213e24",
   "metadata": {
    "scrolled": true
   },
   "outputs": [],
   "source": [
    "#oop kullanarak tarihler hakkında program yazma\n",
    "class Tarih():\n",
    "    aylaraGoreGunler=[31,28,31,30,31,30,31,31,30,31,30,31]\n",
    "    ayListesi=[\"Ocak\",\"Subat\",\"Mart\",\"Nisan\",\"Mayis\",\"Haziran\",\"Temmuz\",\"Agustos\",\"Eylul\",\"Ekim\",\"Kasim\",\"Aralik\"]\n",
    "    \n",
    "    def __init__(self,gun,ay,yil):\n",
    "        self.gun=gun\n",
    "        self.ay=ay\n",
    "        self.yil=yil\n",
    "    def gunArttir(self):\n",
    "        x=0\n",
    "        if self.gun==28 and self.ay==\"Subat\": \n",
    "            self.gun=1\n",
    "            self.ay=\"Mart\"\n",
    "            x=1\n",
    "        if self.gun==31 and self.ay==\"Aralik\":\n",
    "            self.gun=1\n",
    "            self.ay=\"Ocak\"\n",
    "            self.yil+=1\n",
    "            x=1 \n",
    "        for i in range(12):\n",
    "            if i==1 or i==11:\n",
    "                continue\n",
    "            if self.gun==self.aylaraGoreGunler[i] and self.ay==self.ayListesi[i]:\n",
    "                self.gun=1\n",
    "                self.ay=self.ayListesi[i+1]\n",
    "                x=1\n",
    "        if x==0:\n",
    "            self.gun+=1\n",
    "            \n",
    "    \n",
    "    def tarihYazdir(self):\n",
    "        print(\"Bugun {} yılı, {} ayının {}. gunu\".format(self.yil,self.ay,self.gun))\n",
    "    \n",
    "    def tarihKarsilastir(self,tarih):\n",
    "        if self.gun==tarih.gun and self.ay==tarih.ay and self.yil==tarih.yil:\n",
    "            print(\"Girilen iki tarih aynı tarihlerdir..\")\n",
    "        else:\n",
    "            print(\"Girilen iki tarih farklı tarihlerdir..\")\n",
    "        \n",
    "                    \n",
    "    "
   ]
  },
  {
   "cell_type": "code",
   "execution_count": 41,
   "id": "2abae124",
   "metadata": {},
   "outputs": [
    {
     "name": "stdout",
     "output_type": "stream",
     "text": [
      "Bugun 2003 yılı, Ocak ayının 1. gunu\n",
      "Bugun 2009 yılı, Haziran ayının 1. gunu\n"
     ]
    }
   ],
   "source": [
    "oneday=Tarih(31,\"Aralik\",2002)\n",
    "tarih=Tarih(31,\"Mayis\",2009)\n",
    "oneday.gunArttir()\n",
    "oneday.tarihYazdir()\n",
    "tarih.gunArttir()\n",
    "tarih.tarihYazdir()\n"
   ]
  }
 ],
 "metadata": {
  "kernelspec": {
   "display_name": "Python 3 (ipykernel)",
   "language": "python",
   "name": "python3"
  },
  "language_info": {
   "codemirror_mode": {
    "name": "ipython",
    "version": 3
   },
   "file_extension": ".py",
   "mimetype": "text/x-python",
   "name": "python",
   "nbconvert_exporter": "python",
   "pygments_lexer": "ipython3",
   "version": "3.9.13"
  }
 },
 "nbformat": 4,
 "nbformat_minor": 5
}
