{
 "cells": [
  {
   "cell_type": "code",
   "execution_count": 2,
   "id": "2b176ee4",
   "metadata": {},
   "outputs": [
    {
     "name": "stdout",
     "output_type": "stream",
     "text": [
      "please enter the filename that will be readmetin2.txt\n",
      "Observing the destruction of a massive star by a supermassive black hole is spellbinding because more massive stars are expected to be significantly less common than lower-mass stars,\" Enrico Ramirez-Ruiz of the University of California, Santa Cruz, a co-author of the study, said in the statement. \n",
      "the number of words in the text is 47\n"
     ]
    }
   ],
   "source": [
    "#finding the number of words in a text file \n",
    "# the first way\n",
    "try:\n",
    "    filename=input(\"please enter the filename that will be read\")\n",
    "    text=open(filename,mode=\"r\")\n",
    "    content=text.read()\n",
    "    print(content)\n",
    "    space=0\n",
    "    for i in content:\n",
    "        if i==\" \":\n",
    "            space+=1\n",
    "    print(\"the number of words in the text is {}\".format(space+1))        \n",
    "except:\n",
    "    print(\"the text that will be entered must not be empty\")\n",
    "            "
   ]
  },
  {
   "cell_type": "code",
   "execution_count": 4,
   "id": "4cb3b463",
   "metadata": {},
   "outputs": [
    {
     "name": "stdout",
     "output_type": "stream",
     "text": [
      "please enter the filename that will be readmetin2.txt\n",
      "Observing the destruction of a massive star by a supermassive black hole is spellbinding because more massive stars are expected to be significantly less common than lower-mass stars,\" Enrico Ramirez-Ruiz of the University of California, Santa Cruz, a co-author of the study, said in the statement. \n",
      "['Observing', 'the', 'destruction', 'of', 'a', 'massive', 'star', 'by', 'a', 'supermassive', 'black', 'hole', 'is', 'spellbinding', 'because', 'more', 'massive', 'stars', 'are', 'expected', 'to', 'be', 'significantly', 'less', 'common', 'than', 'lower-mass', 'stars,\"', 'Enrico', 'Ramirez-Ruiz', 'of', 'the', 'University', 'of', 'California,', 'Santa', 'Cruz,', 'a', 'co-author', 'of', 'the', 'study,', 'said', 'in', 'the', 'statement.', '']\n",
      "the number of words in the text is 47\n"
     ]
    }
   ],
   "source": [
    "#the second way\n",
    "try:\n",
    "    filename=input(\"please enter the filename that will be read\")\n",
    "    text=open(filename,mode=\"r\")\n",
    "    content=text.read()\n",
    "    print(content)\n",
    "    content=content.split(\" \")\n",
    "    print(content)\n",
    "    print(\"the number of words in the text is {}\".format(len(content)))        \n",
    "except:\n",
    "    print(\"the text that will be entered must not be empty\")"
   ]
  },
  {
   "cell_type": "code",
   "execution_count": null,
   "id": "d4a7a9d1",
   "metadata": {},
   "outputs": [],
   "source": []
  }
 ],
 "metadata": {
  "kernelspec": {
   "display_name": "Python 3 (ipykernel)",
   "language": "python",
   "name": "python3"
  },
  "language_info": {
   "codemirror_mode": {
    "name": "ipython",
    "version": 3
   },
   "file_extension": ".py",
   "mimetype": "text/x-python",
   "name": "python",
   "nbconvert_exporter": "python",
   "pygments_lexer": "ipython3",
   "version": "3.9.13"
  }
 },
 "nbformat": 4,
 "nbformat_minor": 5
}
