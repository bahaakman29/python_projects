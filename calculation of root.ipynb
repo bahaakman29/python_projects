{
 "cells": [
  {
   "cell_type": "code",
   "execution_count": 1,
   "id": "7f8660ce",
   "metadata": {},
   "outputs": [
    {
     "name": "stdout",
     "output_type": "stream",
     "text": [
      "ax^2+bx+c=0 denklemi için kök hesabı\n",
      "delta değeri hesaplamak için a değerini giriniz:5\n",
      "delta değeri hesaplamak için b değerini giriniz:-7\n",
      "delta değeri hesaplamak için c değerini giriniz:-9\n",
      "229\n",
      "bu denklemin çözüm kümesi iki farklı köke sahiptir.\n"
     ]
    }
   ],
   "source": [
    "print(\"ax^2+bx+c=0 denklemi için kök hesabı\")\n",
    "a=int(input(\"delta değeri hesaplamak için a değerini giriniz:\"))\n",
    "b=int(input(\"delta değeri hesaplamak için b değerini giriniz:\"))\n",
    "c=int(input(\"delta değeri hesaplamak için c değerini giriniz:\"))\n",
    "\n",
    "delta=b**2-4*a*c\n",
    "\n",
    "print(delta)\n",
    "\n",
    "if (delta>0):\n",
    "    print(\"bu denklemin çözüm kümesi iki farklı köke sahiptir.\")\n",
    "elif (delta==0):\n",
    "    print(\"bu denklemin çözüm kümesi iki tane aynı köke sahiptir.\")\n",
    "else:\n",
    "    print(\"bu denklemin çözüm kümesi yoktur.\")            "
   ]
  },
  {
   "cell_type": "code",
   "execution_count": null,
   "id": "0f498f9e",
   "metadata": {},
   "outputs": [],
   "source": []
  }
 ],
 "metadata": {
  "kernelspec": {
   "display_name": "Python 3 (ipykernel)",
   "language": "python",
   "name": "python3"
  },
  "language_info": {
   "codemirror_mode": {
    "name": "ipython",
    "version": 3
   },
   "file_extension": ".py",
   "mimetype": "text/x-python",
   "name": "python",
   "nbconvert_exporter": "python",
   "pygments_lexer": "ipython3",
   "version": "3.9.13"
  }
 },
 "nbformat": 4,
 "nbformat_minor": 5
}
