{
 "cells": [
  {
   "cell_type": "code",
   "execution_count": 5,
   "id": "91cef20f",
   "metadata": {},
   "outputs": [],
   "source": [
    "def minnmaxn(liste,n):\n",
    "    liste=list(liste)\n",
    "    liste.sort()\n",
    "    print(liste)\n",
    "    return liste[n-1],liste[-n]\n",
    "    "
   ]
  },
  {
   "cell_type": "code",
   "execution_count": 6,
   "id": "327688ed",
   "metadata": {},
   "outputs": [
    {
     "name": "stdout",
     "output_type": "stream",
     "text": [
      "lütfen bir liste giriniz..445,888,999,666,333,777,555\n",
      "lütfen bir n sayısı giriniz..2\n",
      "['333', '445', '555', '666', '777', '888', '999']\n",
      "('445', '888')\n"
     ]
    }
   ],
   "source": [
    "liste=input(\"lütfen bir liste giriniz..\").split(',')\n",
    "n=int(input(\"lütfen bir n sayısı giriniz..\"))\n",
    "if n<=len(liste):\n",
    "    print(minnmaxn(liste,n))\n",
    "else:\n",
    "    print(\"lütfen girdiğiniz n sayısını girdiğiniz listenin yarısını geçmeyecek şekilde giriniz..\")"
   ]
  },
  {
   "cell_type": "code",
   "execution_count": null,
   "id": "7ac43626",
   "metadata": {},
   "outputs": [],
   "source": []
  },
  {
   "cell_type": "code",
   "execution_count": null,
   "id": "064a8d1c",
   "metadata": {},
   "outputs": [],
   "source": []
  },
  {
   "cell_type": "code",
   "execution_count": null,
   "id": "724bc2c2",
   "metadata": {},
   "outputs": [],
   "source": []
  }
 ],
 "metadata": {
  "kernelspec": {
   "display_name": "Python 3 (ipykernel)",
   "language": "python",
   "name": "python3"
  },
  "language_info": {
   "codemirror_mode": {
    "name": "ipython",
    "version": 3
   },
   "file_extension": ".py",
   "mimetype": "text/x-python",
   "name": "python",
   "nbconvert_exporter": "python",
   "pygments_lexer": "ipython3",
   "version": "3.9.13"
  }
 },
 "nbformat": 4,
 "nbformat_minor": 5
}
