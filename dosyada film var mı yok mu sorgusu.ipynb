{
 "cells": [
  {
   "cell_type": "code",
   "execution_count": 28,
   "id": "eb33fa4f",
   "metadata": {},
   "outputs": [
    {
     "name": "stdout",
     "output_type": "stream",
     "text": [
      "lütfen aramak istediğiniz filmin ismini giriniz..interstellar\n",
      "10\n",
      " puan verilmiş, 2014 çıkış tarihli, interstellar filmi dosyada bulunuyor..\n"
     ]
    }
   ],
   "source": [
    "#dosyada film var mı yok mu sorgusu\n",
    "aranan=input(\"lütfen aramak istediğiniz filmin ismini giriniz..\")\n",
    "dosya1=open(\"metin1.txt\",\"r\")\n",
    "metin=dosya1.readlines()\n",
    "a=0\n",
    "for satir in metin:\n",
    "    ad,tarih,puan=satir.split(\",\")\n",
    "    if aranan in satir:\n",
    "        print(\"{} puan verilmiş, {} çıkış tarihli, {} filmi dosyada bulunuyor..\".format(puan,tarih,aranan))\n",
    "        a=1\n",
    "if a==0:\n",
    "    print(\"dosyada {} ismiyle bir film bulunamamıştır..\".format(aranan))        "
   ]
  }
 ],
 "metadata": {
  "kernelspec": {
   "display_name": "Python 3 (ipykernel)",
   "language": "python",
   "name": "python3"
  },
  "language_info": {
   "codemirror_mode": {
    "name": "ipython",
    "version": 3
   },
   "file_extension": ".py",
   "mimetype": "text/x-python",
   "name": "python",
   "nbconvert_exporter": "python",
   "pygments_lexer": "ipython3",
   "version": "3.9.13"
  }
 },
 "nbformat": 4,
 "nbformat_minor": 5
}
