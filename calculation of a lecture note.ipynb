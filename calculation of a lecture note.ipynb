{
 "cells": [
  {
   "cell_type": "code",
   "execution_count": 8,
   "id": "3e3c6c44",
   "metadata": {},
   "outputs": [
    {
     "name": "stdout",
     "output_type": "stream",
     "text": [
      "vize notunuzu giriniz:55\n",
      "final notunuzu giriniz:65\n",
      "61.0\n",
      "congratulations, you passed\n"
     ]
    }
   ],
   "source": [
    "#örnek bir ders için dönem notu hesaplama(40/60)\n",
    "\n",
    "vize=int(input(\"vize notunuzu giriniz:\"))\n",
    "final=int(input(\"final notunuzu giriniz:\"))\n",
    "\n",
    "vizeagirligi=(vize*40)/100\n",
    "finalagirligi=(final*60)/100\n",
    "\n",
    "donemnotu=vizeagirligi+finalagirligi\n",
    "\n",
    "if (donemnotu>=60):\n",
    "    print(donemnotu)\n",
    "    print(\"congratulations, you passed\")\n",
    "else:\n",
    "    print(donemnotu)\n",
    "    print(\"unfourtunately, you failed\")"
   ]
  },
  {
   "cell_type": "code",
   "execution_count": null,
   "id": "296747b3",
   "metadata": {},
   "outputs": [],
   "source": []
  }
 ],
 "metadata": {
  "kernelspec": {
   "display_name": "Python 3 (ipykernel)",
   "language": "python",
   "name": "python3"
  },
  "language_info": {
   "codemirror_mode": {
    "name": "ipython",
    "version": 3
   },
   "file_extension": ".py",
   "mimetype": "text/x-python",
   "name": "python",
   "nbconvert_exporter": "python",
   "pygments_lexer": "ipython3",
   "version": "3.9.13"
  }
 },
 "nbformat": 4,
 "nbformat_minor": 5
}
