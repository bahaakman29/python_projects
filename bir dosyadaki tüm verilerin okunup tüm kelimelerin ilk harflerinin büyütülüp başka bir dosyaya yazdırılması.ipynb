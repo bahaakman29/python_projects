{
 "cells": [
  {
   "cell_type": "code",
   "execution_count": 9,
   "id": "13def19e",
   "metadata": {},
   "outputs": [
    {
     "name": "stdout",
     "output_type": "stream",
     "text": [
      "please enter the filename that will be read and converted its capital letters..metin2.txt\n",
      "please enter the filename that will be written the text that was convertedmetin1.txt\n",
      "Observing the destruction of a massive star by a supermassive black hole is spellbinding because more massive stars are expected to be significantly less common than lower-mass stars,\" Enrico Ramirez-Ruiz of the University of California, Santa Cruz, a co-author of the study, said in the statement. \n",
      "Observing The Destruction Of A Massive Star By A Supermassive Black Hole Is Spellbinding Because More Massive Stars Are Expected To Be Significantly Less Common Than Lower-Mass Stars,\" Enrico Ramirez-Ruiz Of The University Of California, Santa Cruz, A Co-Author Of The Study, Said In The Statement. \n"
     ]
    }
   ],
   "source": [
    "try:\n",
    "    filename1=input(\"please enter the filename that will be read and converted its capital letters..\")\n",
    "    filename2=input(\"please enter the filename that will be written the text that was converted\")\n",
    "    file1=open(filename1,\"r\")\n",
    "    content=file1.read()\n",
    "    print(content)\n",
    "    content=content.title()\n",
    "    print(content)\n",
    "    file2=open(filename2,\"w\")\n",
    "    file2.write(content)\n",
    "    file1.close()\n",
    "    file2.close()\n",
    "except:\n",
    "    print(\"the text will be read must not be empty\")\n",
    "    "
   ]
  },
  {
   "cell_type": "code",
   "execution_count": null,
   "id": "561502ce",
   "metadata": {},
   "outputs": [],
   "source": []
  }
 ],
 "metadata": {
  "kernelspec": {
   "display_name": "Python 3 (ipykernel)",
   "language": "python",
   "name": "python3"
  },
  "language_info": {
   "codemirror_mode": {
    "name": "ipython",
    "version": 3
   },
   "file_extension": ".py",
   "mimetype": "text/x-python",
   "name": "python",
   "nbconvert_exporter": "python",
   "pygments_lexer": "ipython3",
   "version": "3.9.13"
  }
 },
 "nbformat": 4,
 "nbformat_minor": 5
}
